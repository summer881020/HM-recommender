{
 "cells": [
  {
   "cell_type": "code",
   "execution_count": null,
   "metadata": {
    "_kg_hide-input": true,
    "execution": {
     "iopub.execute_input": "2022-02-19T03:25:37.778726Z",
     "iopub.status.busy": "2022-02-19T03:25:37.778464Z",
     "iopub.status.idle": "2022-02-19T03:25:37.797311Z",
     "shell.execute_reply": "2022-02-19T03:25:37.796345Z",
     "shell.execute_reply.started": "2022-02-19T03:25:37.778699Z"
    },
    "jupyter": {
     "outputs_hidden": false
    },
    "pycharm": {
     "name": "#%%\n"
    }
   },
   "outputs": [],
   "source": [
    "import pandas as pd\n",
    "import numpy as np\n",
    "import os\n",
    "from glob import glob\n",
    "from tqdm import tqdm\n",
    "import lightgbm as lgbm\n",
    "from sklearn.preprocessing import LabelEncoder\n",
    "from sklearn.model_selection import StratifiedKFold, KFold\n",
    "import seaborn as sns\n",
    "from matplotlib import pyplot as plt\n",
    "import random\n",
    "from PIL import Image\n",
    "import math\n",
    "import itertools\n",
    "from plotly.graph_objects import treemap\n",
    "import plotly\n",
    "import plotly.express as px\n",
    "import plotly.graph_objects as go\n",
    "from plotly.subplots import make_subplots\n",
    "import plotly.io as pio\n",
    "import plotly.subplots as sp\n",
    "import gc\n",
    "from collections import Counter\n",
    "import plotly\n",
    "import plotly.express as px\n",
    "import plotly.graph_objects as go\n",
    "from plotly.subplots import make_subplots\n",
    "import plotly.io as pio\n",
    "import plotly.subplots as sp\n",
    "\n",
    "def count_items(series):\n",
    "    return len(series[~series.isna()])\n",
    "\n",
    "def show_clear_plt():\n",
    "    plt.tight_layout()\n",
    "    plt.show()\n",
    "    plt.clf()\n",
    "\n",
    "\n",
    "sns.set(font_scale=1.5)\n",
    "sns.set_style(style='darkgrid')\n",
    "plt.rcParams['figure.figsize'] = (10, 6)\n",
    "plt.rcParams['legend.facecolor'] = 'white'\n",
    "\n",
    "def reduce_memory_usage(df, columns, verbose=True):\n",
    "    numerics = [\"int8\", \"int16\", \"int32\", \"int64\", \"float16\", \"float32\", \"float64\"]\n",
    "    start_mem = df.memory_usage().sum() / 1024 ** 2\n",
    "    for col in columns:\n",
    "        col_type = df[col].dtypes\n",
    "        if col_type in numerics:\n",
    "            c_min = df[col].min()\n",
    "            c_max = df[col].max()\n",
    "            if str(col_type)[:3] == \"int\":\n",
    "                if c_min > np.iinfo(np.int8).min and c_max < np.iinfo(np.int8).max:\n",
    "                    df[col] = df[col].astype(np.int8)\n",
    "                elif c_min > np.iinfo(np.int16).min and c_max < np.iinfo(np.int16).max:\n",
    "                    df[col] = df[col].astype(np.int16)\n",
    "                elif c_min > np.iinfo(np.int32).min and c_max < np.iinfo(np.int32).max:\n",
    "                    df[col] = df[col].astype(np.int32)\n",
    "                elif c_min > np.iinfo(np.int64).min and c_max < np.iinfo(np.int64).max:\n",
    "                    df[col] = df[col].astype(np.int64)\n",
    "            else:\n",
    "                if (\n",
    "                        c_min > np.finfo(np.float16).min\n",
    "                        and c_max < np.finfo(np.float16).max\n",
    "                ):\n",
    "                    df[col] = df[col].astype(np.float16)\n",
    "                elif (\n",
    "                        c_min > np.finfo(np.float32).min\n",
    "                        and c_max < np.finfo(np.float32).max\n",
    "                ):\n",
    "                    df[col] = df[col].astype(np.float32)\n",
    "                else:\n",
    "                    df[col] = df[col].astype(np.float64)\n",
    "    end_mem = df.memory_usage().sum() / 1024 ** 2\n",
    "    if verbose:\n",
    "        print(\n",
    "            \"Mem. usage decreased to {:.2f} Mb ({:.1f}% reduction)\".format(\n",
    "                end_mem, 100 * (start_mem - end_mem) / start_mem\n",
    "            )\n",
    "        )\n",
    "    return df"
   ]
  },
  {
   "cell_type": "markdown",
   "metadata": {},
   "source": [
    "Some plots of which types of items / colours are popular depending on the time of year.\n",
    "\n",
    "Not sure how useful this is just found it interesting to explore briefly. We can see how some types of clothing or some colours are much more popular at certain times of year.\n",
    "\n",
    "I haven't read all the EDA notebooks for this comp so apologies to anyone in advance who has already done this in a public notebook..."
   ]
  },
  {
   "cell_type": "markdown",
   "metadata": {},
   "source": [
    "# Setup"
   ]
  },
  {
   "cell_type": "code",
   "execution_count": null,
   "metadata": {
    "execution": {
     "iopub.execute_input": "2022-02-19T03:24:57.509725Z",
     "iopub.status.busy": "2022-02-19T03:24:57.509523Z",
     "iopub.status.idle": "2022-02-19T03:24:57.51632Z",
     "shell.execute_reply": "2022-02-19T03:24:57.515464Z",
     "shell.execute_reply.started": "2022-02-19T03:24:57.509702Z"
    },
    "jupyter": {
     "outputs_hidden": false
    },
    "pycharm": {
     "name": "#%%\n"
    }
   },
   "outputs": [],
   "source": [
    "class CONFIG:\n",
    "    KAGGLE = os.path.exists('../input/h-and-m-personalized-fashion-recommendations/')\n",
    "\n",
    "    if KAGGLE:\n",
    "        PATH = '../input/h-and-m-personalized-fashion-recommendations/'\n",
    "        print('running on Kaggle')\n",
    "    else:\n",
    "        PATH = 'NA'\n",
    "        print('not running on Kaggle')\n",
    "\n",
    "    DEBUG = False\n",
    "    DEBUG_PC = 0.1\n",
    "\n",
    "    print(f'debugging / reduce data rows is {DEBUG}')\n",
    "\n",
    "    EXAMPLE_LIMIT = 10"
   ]
  },
  {
   "cell_type": "code",
   "execution_count": null,
   "metadata": {
    "execution": {
     "iopub.execute_input": "2022-02-19T03:24:57.517709Z",
     "iopub.status.busy": "2022-02-19T03:24:57.517448Z",
     "iopub.status.idle": "2022-02-19T03:25:05.481497Z",
     "shell.execute_reply": "2022-02-19T03:25:05.48067Z",
     "shell.execute_reply.started": "2022-02-19T03:24:57.51768Z"
    }
   },
   "outputs": [],
   "source": [
    "transactions = pd.read_parquet('../input/h-m-save-to-parquet/transactions_train.parquet',\n",
    "                     )\n",
    "customers = pd.read_parquet('../input/h-m-save-to-parquet/customers.parquet')\n",
    "articles = pd.read_parquet('../input/h-m-save-to-parquet/articles.parquet',\n",
    "                      )\n",
    "\n",
    "print(transactions.dtypes)"
   ]
  },
  {
   "cell_type": "markdown",
   "metadata": {},
   "source": [
    "# Data subsampling"
   ]
  },
  {
   "cell_type": "markdown",
   "metadata": {},
   "source": [
    "(this reduces data size if DEBUG selected in CONFIG)"
   ]
  },
  {
   "cell_type": "code",
   "execution_count": null,
   "metadata": {
    "_kg_hide-input": true,
    "execution": {
     "iopub.execute_input": "2022-02-19T03:25:05.483368Z",
     "iopub.status.busy": "2022-02-19T03:25:05.483037Z",
     "iopub.status.idle": "2022-02-19T03:25:05.493574Z",
     "shell.execute_reply": "2022-02-19T03:25:05.492761Z",
     "shell.execute_reply.started": "2022-02-19T03:25:05.48332Z"
    },
    "jupyter": {
     "outputs_hidden": false
    },
    "pycharm": {
     "name": "#%%\n"
    }
   },
   "outputs": [],
   "source": [
    "if CONFIG.DEBUG:\n",
    "    random.seed(42)\n",
    "\n",
    "    # subsample the articles\n",
    "    unique_articles = articles['article_id'].unique().tolist()\n",
    "    sample_articles = random.sample(unique_articles, int(CONFIG.DEBUG_PC * len(unique_articles)))\n",
    "    print(f'number of sample articles {len(sample_articles)}')\n",
    "\n",
    "    print(articles.shape)\n",
    "    articles = articles[articles['article_id'].isin(sample_articles)].reset_index(drop=True)\n",
    "    print(articles.shape)\n",
    "\n",
    "    # subsample the customers\n",
    "    unique_customers = customers['customer_id'].unique().tolist()\n",
    "    sample_customers = random.sample(unique_customers, int(CONFIG.DEBUG_PC * len(unique_customers)))\n",
    "    print(f'number of sample customers {len(sample_customers)}')\n",
    "\n",
    "    print(customers.shape)\n",
    "    customers = customers[customers['customer_id'].isin(sample_customers)].reset_index(drop=True)\n",
    "    print(customers.shape)\n",
    "\n",
    "    print(f'original train transactions shape {transactions.shape}')\n",
    "    transactions = transactions[(transactions['customer_id'].isin(sample_customers)) &\n",
    "                                (transactions['article_id'].isin(sample_articles))].reset_index(drop=True)\n",
    "\n",
    "    print(f'reduced train transactions shape {transactions.shape}')\n",
    "    \n",
    "else:\n",
    "    print('running with all train data')"
   ]
  },
  {
   "cell_type": "markdown",
   "metadata": {},
   "source": [
    "# Check seasonality of product groups, colours"
   ]
  },
  {
   "cell_type": "markdown",
   "metadata": {},
   "source": [
    "Step 1 - use cyclic encoding on dates"
   ]
  },
  {
   "cell_type": "code",
   "execution_count": 2,
   "metadata": {},
   "outputs": [],
   "source": [
    "import pandas as pd\n",
    "import numpy as np\n",
    "import os\n",
    "from glob import glob\n",
    "from tqdm import tqdm\n",
    "from sklearn.preprocessing import LabelEncoder\n",
    "from sklearn.model_selection import StratifiedKFold, KFold\n",
    "import seaborn as sns\n",
    "from matplotlib import pyplot as plt\n",
    "import random\n",
    "from PIL import Image\n",
    "import math\n",
    "import itertools\n",
    "from plotly.graph_objects import treemap\n",
    "import plotly\n",
    "import plotly.express as px\n",
    "import plotly.graph_objects as go\n",
    "from plotly.subplots import make_subplots\n",
    "import plotly.io as pio\n",
    "import plotly.subplots as sp\n",
    "import gc\n",
    "from collections import Counter\n",
    "import plotly\n",
    "import plotly.express as px\n",
    "import plotly.graph_objects as go\n",
    "from plotly.subplots import make_subplots\n",
    "import plotly.io as pio\n",
    "import plotly.subplots as sp"
   ]
  },
  {
   "cell_type": "code",
   "execution_count": 8,
   "metadata": {},
   "outputs": [],
   "source": [
    "def show_clear_plt():\n",
    "    plt.tight_layout()\n",
    "    plt.show()\n",
    "    plt.clf()"
   ]
  },
  {
   "cell_type": "code",
   "execution_count": 13,
   "metadata": {},
   "outputs": [],
   "source": [
    "def count_items(series):\n",
    "    return len(series[~series.isna()])"
   ]
  },
  {
   "cell_type": "code",
   "execution_count": 5,
   "metadata": {},
   "outputs": [],
   "source": [
    "articles = pd.read_csv(\"data/articles.csv\")\n",
    "customers = pd.read_csv(\"data/customers.csv\")\n",
    "transactions = pd.read_csv(\"data/transactions_train.csv\")"
   ]
  },
  {
   "cell_type": "code",
   "execution_count": 7,
   "metadata": {
    "execution": {
     "iopub.execute_input": "2022-02-19T03:33:53.925543Z",
     "iopub.status.busy": "2022-02-19T03:33:53.925211Z",
     "iopub.status.idle": "2022-02-19T03:34:14.798145Z",
     "shell.execute_reply": "2022-02-19T03:34:14.797198Z",
     "shell.execute_reply.started": "2022-02-19T03:33:53.92551Z"
    }
   },
   "outputs": [
    {
     "ename": "NameError",
     "evalue": "name 'show_clear_plt' is not defined",
     "output_type": "error",
     "traceback": [
      "\u001b[1;31m---------------------------------------------------------------------------\u001b[0m",
      "\u001b[1;31mNameError\u001b[0m                                 Traceback (most recent call last)",
      "\u001b[1;32m<ipython-input-7-52a251260322>\u001b[0m in \u001b[0;36m<module>\u001b[1;34m\u001b[0m\n\u001b[0;32m     32\u001b[0m \u001b[0mplt\u001b[0m\u001b[1;33m.\u001b[0m\u001b[0mlegend\u001b[0m\u001b[1;33m(\u001b[0m\u001b[0mdaily_transactions\u001b[0m\u001b[1;33m.\u001b[0m\u001b[0mcolumns\u001b[0m\u001b[1;33m.\u001b[0m\u001b[0mtolist\u001b[0m\u001b[1;33m(\u001b[0m\u001b[1;33m)\u001b[0m\u001b[1;33m)\u001b[0m\u001b[1;33m\u001b[0m\u001b[1;33m\u001b[0m\u001b[0m\n\u001b[0;32m     33\u001b[0m \u001b[0mplt\u001b[0m\u001b[1;33m.\u001b[0m\u001b[0mylabel\u001b[0m\u001b[1;33m(\u001b[0m\u001b[1;34m'Cyclic encoding'\u001b[0m\u001b[1;33m)\u001b[0m\u001b[1;33m\u001b[0m\u001b[1;33m\u001b[0m\u001b[0m\n\u001b[1;32m---> 34\u001b[1;33m \u001b[0mshow_clear_plt\u001b[0m\u001b[1;33m(\u001b[0m\u001b[1;33m)\u001b[0m\u001b[1;33m\u001b[0m\u001b[1;33m\u001b[0m\u001b[0m\n\u001b[0m",
      "\u001b[1;31mNameError\u001b[0m: name 'show_clear_plt' is not defined"
     ]
    },
    {
     "data": {
      "image/png": "[encoded data removed]",
      "text/plain": [
       "<Figure size 432x288 with 1 Axes>"
      ]
     },
     "metadata": {
      "needs_background": "light"
     },
     "output_type": "display_data"
    }
   ],
   "source": [
    "transactions['t_dat'] = pd.to_datetime(transactions['t_dat'])\n",
    "transactions['day_of_year'] = transactions['t_dat'].dt.dayofyear\n",
    "transactions['week'] = transactions['t_dat'].dt.isocalendar().week\n",
    "transactions['quarter'] = transactions['t_dat'].dt.quarter\n",
    "transactions['month'] = transactions['t_dat'].dt.month\n",
    "\n",
    "def cyclic_encode(df, column):\n",
    "    df[f'{column}_sin'] = np.sin(2 * np.pi * df[column] / df[column].max())\n",
    "    df[f'{column}_cos'] = np.cos(2 * np.pi * df[column] / df[column].max())\n",
    "    return df\n",
    "\n",
    "\n",
    "encode_cols = [\n",
    "    'day_of_year',\n",
    "]\n",
    "\n",
    "for ec in encode_cols:\n",
    "    transactions[ec] = transactions[ec] - transactions[ec].min()\n",
    "    transactions = cyclic_encode(transactions, ec)\n",
    "\n",
    "# display example\n",
    "\n",
    "cyclic_outputs = ['day_of_year_sin', 'day_of_year_cos']\n",
    "\n",
    "daily_transactions = transactions.groupby(['t_dat'])[cyclic_outputs].mean()\n",
    "\n",
    "for c in daily_transactions.columns:\n",
    "    sns.lineplot(x=daily_transactions[c].resample('w').mean().index,\n",
    "                 y=daily_transactions[c].resample('w').mean().values,\n",
    "                 linewidth=4)\n",
    "plt.title('Time of year cyclic encoding')\n",
    "plt.legend(daily_transactions.columns.tolist())\n",
    "plt.ylabel('Cyclic encoding')\n",
    "show_clear_plt()"
   ]
  },
  {
   "cell_type": "markdown",
   "metadata": {},
   "source": [
    "Below demonstrates the position of months 1-12 in the cycle\n",
    "\n",
    "Winter (for northern hemisphere - which looks to be the location of this data) is in the upper part of the outputs."
   ]
  },
  {
   "cell_type": "code",
   "execution_count": 9,
   "metadata": {
    "execution": {
     "iopub.execute_input": "2022-02-19T03:34:14.799797Z",
     "iopub.status.busy": "2022-02-19T03:34:14.799443Z",
     "iopub.status.idle": "2022-02-19T03:34:16.766147Z",
     "shell.execute_reply": "2022-02-19T03:34:16.765606Z",
     "shell.execute_reply.started": "2022-02-19T03:34:14.799764Z"
    }
   },
   "outputs": [
    {
     "data": {
      "image/png": "[encoded data removed]",
      "text/plain": [
       "<Figure size 576x576 with 1 Axes>"
      ]
     },
     "metadata": {
      "needs_background": "light"
     },
     "output_type": "display_data"
    },
    {
     "data": {
      "text/plain": [
       "<Figure size 432x288 with 0 Axes>"
      ]
     },
     "metadata": {},
     "output_type": "display_data"
    }
   ],
   "source": [
    "qs = transactions.groupby(['month'])[cyclic_outputs].median()\n",
    "fig, axes = plt.subplots(figsize=(8, 8))\n",
    "plt.scatter(x=qs[cyclic_outputs[0]],\n",
    "            y=qs[cyclic_outputs[1]])\n",
    "\n",
    "for i in qs.index:\n",
    "    plt.annotate(f'Month {i}', (qs.loc[i, cyclic_outputs[0]],\n",
    "                     qs.loc[i, cyclic_outputs[1]]),\n",
    "                 ha='center',\n",
    "                 va='center',\n",
    "                 fontsize=20)\n",
    "plt.xlabel(cyclic_outputs[0])\n",
    "plt.ylabel(cyclic_outputs[1])\n",
    "plt.xlim(-1.2,1.2)\n",
    "plt.ylim(-1.2,1.2)\n",
    "plt.title('Months as cycle',\n",
    "          fontsize=24)\n",
    "show_clear_plt()"
   ]
  },
  {
   "cell_type": "code",
   "execution_count": null,
   "metadata": {
    "_kg_hide-input": true,
    "execution": {
     "iopub.execute_input": "2022-02-19T03:34:19.166273Z",
     "iopub.status.busy": "2022-02-19T03:34:19.165986Z",
     "iopub.status.idle": "2022-02-19T03:34:19.175746Z",
     "shell.execute_reply": "2022-02-19T03:34:19.174818Z",
     "shell.execute_reply.started": "2022-02-19T03:34:19.166227Z"
    }
   },
   "outputs": [],
   "source": [
    "def plot_category_seasonality(column, n_examples=5):\n",
    "\n",
    "    transactions[column] = transactions['article_id'].map(dict(zip(articles['article_id'],\n",
    "                                                               articles[column])))\n",
    "\n",
    "    feature_dict = {cyclic_outputs[0]: [np.mean],\n",
    "                    cyclic_outputs[1]: [np.mean],\n",
    "                    'article_id': [count_items],}\n",
    "\n",
    "    top_examples = transactions[column].value_counts().sort_values(ascending=False).index[:n_examples].tolist()\n",
    "\n",
    "    cat_seasonality = transactions[transactions[column].isin(top_examples)].groupby([column]).agg(feature_dict)\n",
    "    cat_seasonality.columns = [f'{a}_{b}' for a,b in cat_seasonality.columns]\n",
    "\n",
    "    fig = px.scatter(cat_seasonality, x=cat_seasonality[f'{cyclic_outputs[0]}_mean'],\n",
    "                     y=cat_seasonality[f'{cyclic_outputs[1]}_mean'],\n",
    "                     size=cat_seasonality['article_id_count_items'],\n",
    "                      color=cat_seasonality[f'{cyclic_outputs[1]}_mean'],\n",
    "                     text=cat_seasonality.index,\n",
    "                     log_x=False,\n",
    "                     size_max=150,\n",
    "                     color_continuous_scale='solar_r',\n",
    "                     )\n",
    "\n",
    "    fig.update_layout(\n",
    "        title=dict(text=f'<b>Examples for category {column} weighted by time of year (as cycle)<b>',\n",
    "                   font=dict(\n",
    "                       family=\"Arial\",\n",
    "                       size=20,\n",
    "                       color='#000000'\n",
    "                   )),\n",
    "\n",
    "        xaxis_title=\"Autumn (left) to Spring (right)\",\n",
    "        yaxis_title=\"Summer (lower) to Winter (upper)\",\n",
    "        height=600,\n",
    "        width=900,\n",
    "        font=dict(\n",
    "            family=\"Arial\",\n",
    "            size=18,\n",
    "            color='#000000'\n",
    "        )\n",
    "    )\n",
    "\n",
    "    fig.show()"
   ]
  },
  {
   "cell_type": "code",
   "execution_count": 12,
   "metadata": {},
   "outputs": [],
   "source": [
    "column = 'product_type_name' \n",
    "n_examples=5\n",
    "transactions[column] = transactions['article_id'].map(dict(zip(articles['article_id'],\n",
    "                                                               articles[column])))"
   ]
  },
  {
   "cell_type": "code",
   "execution_count": 23,
   "metadata": {},
   "outputs": [],
   "source": [
    "top_examples = transactions[column].value_counts().sort_values(ascending=False).index[:n_examples].tolist()"
   ]
  },
  {
   "cell_type": "code",
   "execution_count": 24,
   "metadata": {},
   "outputs": [
    {
     "data": {
      "text/plain": [
       "['Trousers', 'Dress', 'Sweater', 'T-shirt', 'Top']"
      ]
     },
     "execution_count": 24,
     "metadata": {},
     "output_type": "execute_result"
    }
   ],
   "source": [
    "top_examples"
   ]
  },
  {
   "cell_type": "code",
   "execution_count": 17,
   "metadata": {},
   "outputs": [
    {
     "data": {
      "text/plain": [
       "0           Underwear body\n",
       "1                      Bra\n",
       "2                  Sweater\n",
       "3                  Sweater\n",
       "4                  Sweater\n",
       "                 ...      \n",
       "31788319             Dress\n",
       "31788320           Unknown\n",
       "31788321               Bag\n",
       "31788322              Ring\n",
       "31788323            Blouse\n",
       "Name: product_type_name, Length: 31788324, dtype: object"
      ]
     },
     "execution_count": 17,
     "metadata": {},
     "output_type": "execute_result"
    }
   ],
   "source": [
    "transactions[column]"
   ]
  },
  {
   "cell_type": "code",
   "execution_count": 14,
   "metadata": {},
   "outputs": [],
   "source": [
    "feature_dict = {cyclic_outputs[0]: [np.mean],\n",
    "                cyclic_outputs[1]: [np.mean],\n",
    "                'article_id': [count_items],}"
   ]
  },
  {
   "cell_type": "code",
   "execution_count": 20,
   "metadata": {},
   "outputs": [],
   "source": [
    "top_examples = transactions[column].value_counts().sort_values(ascending=False).index[:n_examples].tolist()\n",
    "\n",
    "cat_seasonality = transactions[transactions[column].isin(top_examples)].groupby([column]).agg(feature_dict)\n"
   ]
  },
  {
   "cell_type": "code",
   "execution_count": 22,
   "metadata": {},
   "outputs": [
    {
     "data": {
      "text/html": [
       "<div>\n",
       "<style scoped>\n",
       "    .dataframe tbody tr th:only-of-type {\n",
       "        vertical-align: middle;\n",
       "    }\n",
       "\n",
       "    .dataframe tbody tr th {\n",
       "        vertical-align: top;\n",
       "    }\n",
       "\n",
       "    .dataframe thead th {\n",
       "        text-align: right;\n",
       "    }\n",
       "</style>\n",
       "<table border=\"1\" class=\"dataframe\">\n",
       "  <thead>\n",
       "    <tr style=\"text-align: right;\">\n",
       "      <th></th>\n",
       "      <th>day_of_year_sin_mean</th>\n",
       "      <th>day_of_year_cos_mean</th>\n",
       "      <th>article_id_count_items</th>\n",
       "    </tr>\n",
       "    <tr>\n",
       "      <th>product_type_name</th>\n",
       "      <th></th>\n",
       "      <th></th>\n",
       "      <th></th>\n",
       "    </tr>\n",
       "  </thead>\n",
       "  <tbody>\n",
       "    <tr>\n",
       "      <th>Dress</th>\n",
       "      <td>0.073486</td>\n",
       "      <td>-0.238472</td>\n",
       "      <td>3238428</td>\n",
       "    </tr>\n",
       "    <tr>\n",
       "      <th>Sweater</th>\n",
       "      <td>-0.303823</td>\n",
       "      <td>0.330076</td>\n",
       "      <td>2783274</td>\n",
       "    </tr>\n",
       "    <tr>\n",
       "      <th>T-shirt</th>\n",
       "      <td>0.103321</td>\n",
       "      <td>-0.204384</td>\n",
       "      <td>2203750</td>\n",
       "    </tr>\n",
       "    <tr>\n",
       "      <th>Top</th>\n",
       "      <td>0.003412</td>\n",
       "      <td>-0.084326</td>\n",
       "      <td>1583408</td>\n",
       "    </tr>\n",
       "    <tr>\n",
       "      <th>Trousers</th>\n",
       "      <td>-0.016042</td>\n",
       "      <td>0.014318</td>\n",
       "      <td>4217017</td>\n",
       "    </tr>\n",
       "  </tbody>\n",
       "</table>\n",
       "</div>"
      ],
      "text/plain": [
       "                   day_of_year_sin_mean  day_of_year_cos_mean  \\\n",
       "product_type_name                                               \n",
       "Dress                          0.073486             -0.238472   \n",
       "Sweater                       -0.303823              0.330076   \n",
       "T-shirt                        0.103321             -0.204384   \n",
       "Top                            0.003412             -0.084326   \n",
       "Trousers                      -0.016042              0.014318   \n",
       "\n",
       "                   article_id_count_items  \n",
       "product_type_name                          \n",
       "Dress                             3238428  \n",
       "Sweater                           2783274  \n",
       "T-shirt                           2203750  \n",
       "Top                               1583408  \n",
       "Trousers                          4217017  "
      ]
     },
     "execution_count": 22,
     "metadata": {},
     "output_type": "execute_result"
    }
   ],
   "source": [
    "cat_seasonality.columns = [f'{a}_{b}' for a,b in cat_seasonality.columns]\n",
    "cat_seasonality"
   ]
  },
  {
   "cell_type": "code",
   "execution_count": null,
   "metadata": {
    "execution": {
     "iopub.execute_input": "2022-02-19T03:34:19.53143Z",
     "iopub.status.busy": "2022-02-19T03:34:19.530838Z",
     "iopub.status.idle": "2022-02-19T03:34:34.69271Z",
     "shell.execute_reply": "2022-02-19T03:34:34.691777Z",
     "shell.execute_reply.started": "2022-02-19T03:34:19.531396Z"
    }
   },
   "outputs": [],
   "source": [
    "plot_category_seasonality('product_type_name', n_examples=CONFIG.EXAMPLE_LIMIT)"
   ]
  },
  {
   "cell_type": "code",
   "execution_count": null,
   "metadata": {
    "execution": {
     "iopub.execute_input": "2022-02-19T03:30:09.940516Z",
     "iopub.status.busy": "2022-02-19T03:30:09.940289Z",
     "iopub.status.idle": "2022-02-19T03:30:32.359537Z",
     "shell.execute_reply": "2022-02-19T03:30:32.358586Z",
     "shell.execute_reply.started": "2022-02-19T03:30:09.94049Z"
    }
   },
   "outputs": [],
   "source": [
    "plot_category_seasonality('product_group_name', n_examples=CONFIG.EXAMPLE_LIMIT)"
   ]
  },
  {
   "cell_type": "code",
   "execution_count": null,
   "metadata": {
    "execution": {
     "iopub.execute_input": "2022-02-19T03:30:32.362032Z",
     "iopub.status.busy": "2022-02-19T03:30:32.361645Z",
     "iopub.status.idle": "2022-02-19T03:30:54.946297Z",
     "shell.execute_reply": "2022-02-19T03:30:54.945489Z",
     "shell.execute_reply.started": "2022-02-19T03:30:32.361991Z"
    }
   },
   "outputs": [],
   "source": [
    "plot_category_seasonality('index_group_name', n_examples=CONFIG.EXAMPLE_LIMIT)"
   ]
  },
  {
   "cell_type": "code",
   "execution_count": null,
   "metadata": {
    "execution": {
     "iopub.execute_input": "2022-02-19T03:30:54.94748Z",
     "iopub.status.busy": "2022-02-19T03:30:54.947244Z",
     "iopub.status.idle": "2022-02-19T03:31:16.91052Z",
     "shell.execute_reply": "2022-02-19T03:31:16.909503Z",
     "shell.execute_reply.started": "2022-02-19T03:30:54.947453Z"
    }
   },
   "outputs": [],
   "source": [
    "plot_category_seasonality('garment_group_name', n_examples=CONFIG.EXAMPLE_LIMIT)"
   ]
  },
  {
   "cell_type": "code",
   "execution_count": null,
   "metadata": {
    "execution": {
     "iopub.execute_input": "2022-02-19T03:35:27.128326Z",
     "iopub.status.busy": "2022-02-19T03:35:27.12796Z",
     "iopub.status.idle": "2022-02-19T03:35:53.972352Z",
     "shell.execute_reply": "2022-02-19T03:35:53.971479Z",
     "shell.execute_reply.started": "2022-02-19T03:35:27.128276Z"
    }
   },
   "outputs": [],
   "source": [
    "plot_category_seasonality('index_name', n_examples=CONFIG.EXAMPLE_LIMIT)"
   ]
  },
  {
   "cell_type": "code",
   "execution_count": null,
   "metadata": {
    "execution": {
     "iopub.execute_input": "2022-02-19T03:31:48.237651Z",
     "iopub.status.busy": "2022-02-19T03:31:48.237384Z",
     "iopub.status.idle": "2022-02-19T03:32:11.105835Z",
     "shell.execute_reply": "2022-02-19T03:32:11.105097Z",
     "shell.execute_reply.started": "2022-02-19T03:31:48.237623Z"
    }
   },
   "outputs": [],
   "source": [
    "plot_category_seasonality('colour_group_name', n_examples=CONFIG.EXAMPLE_LIMIT)"
   ]
  },
  {
   "cell_type": "code",
   "execution_count": null,
   "metadata": {
    "execution": {
     "iopub.execute_input": "2022-02-19T03:32:11.1133Z",
     "iopub.status.busy": "2022-02-19T03:32:11.107507Z",
     "iopub.status.idle": "2022-02-19T03:32:30.218833Z",
     "shell.execute_reply": "2022-02-19T03:32:30.218022Z",
     "shell.execute_reply.started": "2022-02-19T03:32:11.11322Z"
    }
   },
   "outputs": [],
   "source": [
    "plot_category_seasonality('perceived_colour_value_name', n_examples=CONFIG.EXAMPLE_LIMIT)"
   ]
  },
  {
   "cell_type": "code",
   "execution_count": null,
   "metadata": {},
   "outputs": [],
   "source": []
  }
 ],
 "metadata": {
  "kernelspec": {
   "display_name": "Python 3",
   "language": "python",
   "name": "python3"
  },
  "language_info": {
   "codemirror_mode": {
    "name": "ipython",
    "version": 3
   },
   "file_extension": ".py",
   "mimetype": "text/x-python",
   "name": "python",
   "nbconvert_exporter": "python",
   "pygments_lexer": "ipython3",
   "version": "3.7.10"
  }
 },
 "nbformat": 4,
 "nbformat_minor": 4
}
